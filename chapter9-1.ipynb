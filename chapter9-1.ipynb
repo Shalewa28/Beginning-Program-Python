{
  "nbformat": 4,
  "nbformat_minor": 0,
  "metadata": {
    "colab": {
      "provenance": []
    },
    "kernelspec": {
      "name": "python3",
      "display_name": "Python 3"
    },
    "language_info": {
      "name": "python"
    }
  },
  "cells": [
    {
      "cell_type": "code",
      "execution_count": 1,
      "metadata": {
        "colab": {
          "base_uri": "https://localhost:8080/"
        },
        "id": "1539283YQlnH",
        "outputId": "7e7f3d71-286e-444c-9f6c-866331bcc66d"
      },
      "outputs": [
        {
          "output_type": "stream",
          "name": "stdout",
          "text": [
            "Taste of Lagos serves Nigerian cuisine.\n",
            "Taste of Lagos is now open!\n"
          ]
        }
      ],
      "source": [
        "# This code comes from Chapter 9 of: Matthes, E. (2023). Python Crash Course (3rd ed.). No Starch Press.\n",
        "\n",
        "# Define a class to represent a restaurant\n",
        "class Restaurant:\n",
        "    \"\"\"A simple model of a restaurant.\"\"\"\n",
        "\n",
        "    def __init__(self, name, cuisine_type):\n",
        "        \"\"\"Initialize the restaurant with a name and cuisine type.\"\"\"\n",
        "        self.name = name  # Store the restaurant's name\n",
        "        self.cuisine_type = cuisine_type  # Store the type of cuisine served\n",
        "\n",
        "    def describe_restaurant(self):\n",
        "        \"\"\"Prints a description of the restaurant.\"\"\"\n",
        "        print(f\"{self.name} serves {self.cuisine_type} cuisine.\")\n",
        "\n",
        "    def open_restaurant(self):\n",
        "        \"\"\"Prints a message that the restaurant is open.\"\"\"\n",
        "        print(f\"{self.name} is now open!\")\n",
        "\n",
        "# Create an instance (object) of the Restaurant class\n",
        "my_restaurant = Restaurant(\"Taste of Lagos\", \"Nigerian\")\n",
        "\n",
        "# Call the describe_restaurant method to print restaurant details\n",
        "my_restaurant.describe_restaurant()\n",
        "\n",
        "# Call the open_restaurant method to indicate that the restaurant is open\n",
        "my_restaurant.open_restaurant()"
      ]
    }
  ]
}
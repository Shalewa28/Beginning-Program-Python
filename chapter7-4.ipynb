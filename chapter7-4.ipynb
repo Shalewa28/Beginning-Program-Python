{
  "nbformat": 4,
  "nbformat_minor": 0,
  "metadata": {
    "colab": {
      "provenance": []
    },
    "kernelspec": {
      "name": "python3",
      "display_name": "Python 3"
    },
    "language_info": {
      "name": "python"
    }
  },
  "cells": [
    {
      "cell_type": "code",
      "execution_count": null,
      "metadata": {
        "colab": {
          "base_uri": "https://localhost:8080/"
        },
        "id": "uVSWZgTtJ5Bh",
        "outputId": "b4fa6d61-cc65-4860-d59a-d7f7f9e95dac"
      },
      "outputs": [
        {
          "output_type": "stream",
          "name": "stdout",
          "text": [
            "Enter 'quit' to stop adding toppings.\n"
          ]
        }
      ],
      "source": [
        "# This code comes from Chapter 7 of: Matthes, E. (2023). Python Crash Course (3rd ed.). No Starch Press.\n",
        "\n",
        "# Prompt the user to enter pizza toppings\n",
        "print(\"Enter 'quit' to stop adding toppings.\")\n",
        "\n",
        "# Infinite loop to continuously take user input\n",
        "while True:\n",
        "    topping = input(\"Enter a pizza topping: \")\n",
        "\n",
        "    # Check if the user wants to quit\n",
        "    if topping.lower() == 'quit':\n",
        "        print(\"Thank you! Your pizza order is being prepared.\")\n",
        "        break  # Exit the loop\n",
        "\n",
        "    # Acknowledge the topping added\n",
        "    print(f\"Adding {topping} to your pizza!\")"
      ]
    }
  ]
}
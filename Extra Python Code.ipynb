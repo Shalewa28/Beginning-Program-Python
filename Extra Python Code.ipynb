{
  "nbformat": 4,
  "nbformat_minor": 0,
  "metadata": {
    "colab": {
      "provenance": []
    },
    "kernelspec": {
      "name": "python3",
      "display_name": "Python 3"
    },
    "language_info": {
      "name": "python"
    }
  },
  "cells": [
    {
      "cell_type": "code",
      "source": [
        "\"\"\"\n",
        "This code was adapted from:\n",
        "\n",
        "Matthes, E. (2023). Python crash course (3rd ed.). No Starch Press.\n",
        "\n",
        "Original code concept from Chapter 8 - Functions.\n",
        "Some modifications made to personalize for class demonstration.\n",
        "\"\"\"\n",
        "\n",
        "# Function to display the user's favorite book\n",
        "def favorite_book(title):\n",
        "    \"\"\"Prints a message about a favorite book.\"\"\"\n",
        "    print(f\"One of my favorite books is '{title.title()}'.\")\n",
        "\n",
        "# Ask the user for their favorite book\n",
        "book_name = input(\"Enter the title of your favorite book: \")\n",
        "\n",
        "# Call the function with user input\n",
        "favorite_book(book_name)"
      ],
      "metadata": {
        "id": "2ZCra4KgS84m"
      },
      "execution_count": null,
      "outputs": []
    }
  ]
}
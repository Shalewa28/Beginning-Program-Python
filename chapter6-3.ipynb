{
  "nbformat": 4,
  "nbformat_minor": 0,
  "metadata": {
    "colab": {
      "provenance": []
    },
    "kernelspec": {
      "name": "python3",
      "display_name": "Python 3"
    },
    "language_info": {
      "name": "python"
    }
  },
  "cells": [
    {
      "cell_type": "code",
      "execution_count": 1,
      "metadata": {
        "colab": {
          "base_uri": "https://localhost:8080/"
        },
        "id": "iHfvApIeH0XH",
        "outputId": "eae4ac49-f2fa-40b2-ab5a-33c86ac343f5"
      },
      "outputs": [
        {
          "output_type": "stream",
          "name": "stdout",
          "text": [
            "Variable: A name that refers to a value stored in memory.\n",
            "\n",
            "Function: A block of reusable code that performs a specific task.\n",
            "\n",
            "Loop: A structure that repeats a block of code multiple times.\n",
            "\n",
            "Dictionary: A collection of key-value pairs in Python.\n",
            "\n",
            "Boolean: A data type that represents True or False values.\n",
            "\n"
          ]
        }
      ],
      "source": [
        "# This code comes from Chapter 6 of: Matthes, E. (2023). Python Crash Course (3rd ed.). No Starch Press.\n",
        "\n",
        "# Creating a dictionary to store programming terms and their meanings\n",
        "glossary = {\n",
        "    \"variable\": \"A name that refers to a value stored in memory.\",\n",
        "    \"function\": \"A block of reusable code that performs a specific task.\",\n",
        "    \"loop\": \"A structure that repeats a block of code multiple times.\",\n",
        "    \"dictionary\": \"A collection of key-value pairs in Python.\",\n",
        "    \"boolean\": \"A data type that represents True or False values.\"\n",
        "}\n",
        "\n",
        "# Loop through the dictionary and print each term with its definition\n",
        "for term, definition in glossary.items():\n",
        "    print(f\"{term.title()}: {definition}\\n\")"
      ]
    }
  ]
}
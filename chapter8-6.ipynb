{
  "nbformat": 4,
  "nbformat_minor": 0,
  "metadata": {
    "colab": {
      "provenance": []
    },
    "kernelspec": {
      "name": "python3",
      "display_name": "Python 3"
    },
    "language_info": {
      "name": "python"
    }
  },
  "cells": [
    {
      "cell_type": "code",
      "execution_count": 1,
      "metadata": {
        "id": "K2QGrIETMkAV",
        "outputId": "1a6120c1-8e3a-47dd-f47b-04ef071be44f",
        "colab": {
          "base_uri": "https://localhost:8080/"
        }
      },
      "outputs": [
        {
          "output_type": "stream",
          "name": "stdout",
          "text": [
            "Lagos, Nigeria\n",
            "Paris, France\n",
            "Tokyo, Japan\n"
          ]
        }
      ],
      "source": [
        "# This code comes from Chapter 8 of: Matthes, E. (2023). Python Crash Course (3rd ed.). No Starch Press.\n",
        "\n",
        "# Define a function that formats city and country names\n",
        "def city_country(city, country):\n",
        "    \"\"\"Return a string in the format 'City, Country'.\"\"\"\n",
        "    return f\"{city.title()}, {country.title()}\"\n",
        "\n",
        "# Call the function with different city-country pairs and print the results\n",
        "print(city_country(\"lagos\", \"nigeria\"))\n",
        "print(city_country(\"paris\", \"france\"))\n",
        "print(city_country(\"tokyo\", \"japan\"))"
      ]
    }
  ]
}
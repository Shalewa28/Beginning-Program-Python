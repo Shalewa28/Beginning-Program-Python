{
  "nbformat": 4,
  "nbformat_minor": 0,
  "metadata": {
    "colab": {
      "provenance": []
    },
    "kernelspec": {
      "name": "python3",
      "display_name": "Python 3"
    },
    "language_info": {
      "name": "python"
    }
  },
  "cells": [
    {
      "cell_type": "code",
      "execution_count": 1,
      "metadata": {
        "colab": {
          "base_uri": "https://localhost:8080/"
        },
        "id": "gETCR3OwtBLI",
        "outputId": "1a52a8cd-083c-4084-e281-befef80fd6ed"
      },
      "outputs": [
        {
          "output_type": "stream",
          "name": "stdout",
          "text": [
            "I made your tuna sandwich.\n",
            "I made your chicken sandwich.\n",
            "I made your grilled cheese sandwich.\n",
            "I made your BLT sandwich.\n",
            "I made your veggie sandwich.\n",
            "\n",
            "Sandwiches made:\n",
            "tuna\n",
            "chicken\n",
            "grilled cheese\n",
            "BLT\n",
            "veggie\n"
          ]
        }
      ],
      "source": [
        "# List of sandwich orders\n",
        "sandwich_orders = [\"tuna\", \"chicken\", \"grilled cheese\", \"BLT\", \"veggie\"]\n",
        "\n",
        "# Empty list for finished sandwiches\n",
        "finished_sandwiches = []\n",
        "\n",
        "# Loop through sandwich orders\n",
        "while sandwich_orders:\n",
        "    current_sandwich = sandwich_orders.pop(0)\n",
        "    print(f\"I made your {current_sandwich} sandwich.\")\n",
        "    finished_sandwiches.append(current_sandwich)\n",
        "\n",
        "# Print all finished sandwiches\n",
        "print(\"\\nSandwiches made:\")\n",
        "for sandwich in finished_sandwiches:\n",
        "    print(sandwich)"
      ]
    }
  ]
}